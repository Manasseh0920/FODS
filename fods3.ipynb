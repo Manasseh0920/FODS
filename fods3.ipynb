{
 "cells": [
  {
   "cell_type": "code",
   "execution_count": 115,
   "id": "cde6433e-19b0-41c7-b89a-f801b5ddf049",
   "metadata": {},
   "outputs": [],
   "source": [
    "import pandas as pd "
   ]
  },
  {
   "cell_type": "code",
   "execution_count": 116,
   "id": "1d5af191-7fc0-43a6-8e2a-8facd7318715",
   "metadata": {
    "scrolled": true
   },
   "outputs": [],
   "source": [
    "df = pd.read_csv(r\"C:\\Users\\HDC0422084\\Desktop\\man.csv\")"
   ]
  },
  {
   "cell_type": "code",
   "execution_count": 117,
   "id": "d6ea0a98-b168-4af8-9bd4-344ab12180e5",
   "metadata": {},
   "outputs": [
    {
     "data": {
      "text/html": [
       "<div>\n",
       "<style scoped>\n",
       "    .dataframe tbody tr th:only-of-type {\n",
       "        vertical-align: middle;\n",
       "    }\n",
       "\n",
       "    .dataframe tbody tr th {\n",
       "        vertical-align: top;\n",
       "    }\n",
       "\n",
       "    .dataframe thead th {\n",
       "        text-align: right;\n",
       "    }\n",
       "</style>\n",
       "<table border=\"1\" class=\"dataframe\">\n",
       "  <thead>\n",
       "    <tr style=\"text-align: right;\">\n",
       "      <th></th>\n",
       "      <th>Product_ID</th>\n",
       "      <th>Product_Name</th>\n",
       "      <th>Category</th>\n",
       "      <th>Supplier</th>\n",
       "      <th>Purchase_Price</th>\n",
       "      <th>Sale_Price</th>\n",
       "      <th>Quantity_In_Stock</th>\n",
       "      <th>Reorder_Level</th>\n",
       "      <th>Units_On_Order</th>\n",
       "      <th>Discontinued</th>\n",
       "    </tr>\n",
       "  </thead>\n",
       "  <tbody>\n",
       "    <tr>\n",
       "      <th>0</th>\n",
       "      <td>P0001</td>\n",
       "      <td>Doodad</td>\n",
       "      <td>Clothing</td>\n",
       "      <td>Supplier D</td>\n",
       "      <td>339.75</td>\n",
       "      <td>NaN</td>\n",
       "      <td>588.0</td>\n",
       "      <td>292.0</td>\n",
       "      <td>161.0</td>\n",
       "      <td>1</td>\n",
       "    </tr>\n",
       "    <tr>\n",
       "      <th>1</th>\n",
       "      <td>P0002</td>\n",
       "      <td>Doohickey</td>\n",
       "      <td>Clothing</td>\n",
       "      <td>Supplier C</td>\n",
       "      <td>NaN</td>\n",
       "      <td>470.14</td>\n",
       "      <td>348.0</td>\n",
       "      <td>114.0</td>\n",
       "      <td>70.0</td>\n",
       "      <td>1</td>\n",
       "    </tr>\n",
       "    <tr>\n",
       "      <th>2</th>\n",
       "      <td>P0003</td>\n",
       "      <td>Thingamajig</td>\n",
       "      <td>Clothing</td>\n",
       "      <td>Supplier B</td>\n",
       "      <td>NaN</td>\n",
       "      <td>460.10</td>\n",
       "      <td>146.0</td>\n",
       "      <td>NaN</td>\n",
       "      <td>163.0</td>\n",
       "      <td>1</td>\n",
       "    </tr>\n",
       "    <tr>\n",
       "      <th>3</th>\n",
       "      <td>P0004</td>\n",
       "      <td>Doohickey</td>\n",
       "      <td>Clothing</td>\n",
       "      <td>Supplier A</td>\n",
       "      <td>NaN</td>\n",
       "      <td>124.82</td>\n",
       "      <td>66.0</td>\n",
       "      <td>13.0</td>\n",
       "      <td>NaN</td>\n",
       "      <td>0</td>\n",
       "    </tr>\n",
       "    <tr>\n",
       "      <th>4</th>\n",
       "      <td>P0005</td>\n",
       "      <td>Doohickey</td>\n",
       "      <td>Toys</td>\n",
       "      <td>Supplier E</td>\n",
       "      <td>228.75</td>\n",
       "      <td>66.71</td>\n",
       "      <td>903.0</td>\n",
       "      <td>271.0</td>\n",
       "      <td>37.0</td>\n",
       "      <td>1</td>\n",
       "    </tr>\n",
       "    <tr>\n",
       "      <th>5</th>\n",
       "      <td>P0006</td>\n",
       "      <td>Gadget</td>\n",
       "      <td>Toys</td>\n",
       "      <td>Supplier E</td>\n",
       "      <td>401.21</td>\n",
       "      <td>NaN</td>\n",
       "      <td>519.0</td>\n",
       "      <td>89.0</td>\n",
       "      <td>NaN</td>\n",
       "      <td>0</td>\n",
       "    </tr>\n",
       "    <tr>\n",
       "      <th>6</th>\n",
       "      <td>P0007</td>\n",
       "      <td>Thingamajig</td>\n",
       "      <td>Furniture</td>\n",
       "      <td>Supplier A</td>\n",
       "      <td>412.99</td>\n",
       "      <td>230.48</td>\n",
       "      <td>NaN</td>\n",
       "      <td>215.0</td>\n",
       "      <td>136.0</td>\n",
       "      <td>1</td>\n",
       "    </tr>\n",
       "    <tr>\n",
       "      <th>7</th>\n",
       "      <td>P0008</td>\n",
       "      <td>Thingamajig</td>\n",
       "      <td>Electronics</td>\n",
       "      <td>Supplier A</td>\n",
       "      <td>430.21</td>\n",
       "      <td>267.92</td>\n",
       "      <td>339.0</td>\n",
       "      <td>444.0</td>\n",
       "      <td>199.0</td>\n",
       "      <td>1</td>\n",
       "    </tr>\n",
       "    <tr>\n",
       "      <th>8</th>\n",
       "      <td>P0009</td>\n",
       "      <td>Thingamajig</td>\n",
       "      <td>Clothing</td>\n",
       "      <td>Supplier B</td>\n",
       "      <td>NaN</td>\n",
       "      <td>33.22</td>\n",
       "      <td>174.0</td>\n",
       "      <td>278.0</td>\n",
       "      <td>178.0</td>\n",
       "      <td>0</td>\n",
       "    </tr>\n",
       "    <tr>\n",
       "      <th>9</th>\n",
       "      <td>P0010</td>\n",
       "      <td>Doohickey</td>\n",
       "      <td>Furniture</td>\n",
       "      <td>Supplier C</td>\n",
       "      <td>221.18</td>\n",
       "      <td>166.85</td>\n",
       "      <td>899.0</td>\n",
       "      <td>447.0</td>\n",
       "      <td>34.0</td>\n",
       "      <td>1</td>\n",
       "    </tr>\n",
       "  </tbody>\n",
       "</table>\n",
       "</div>"
      ],
      "text/plain": [
       "  Product_ID Product_Name     Category    Supplier  Purchase_Price  \\\n",
       "0      P0001       Doodad     Clothing  Supplier D          339.75   \n",
       "1      P0002    Doohickey     Clothing  Supplier C             NaN   \n",
       "2      P0003  Thingamajig     Clothing  Supplier B             NaN   \n",
       "3      P0004    Doohickey     Clothing  Supplier A             NaN   \n",
       "4      P0005    Doohickey         Toys  Supplier E          228.75   \n",
       "5      P0006       Gadget         Toys  Supplier E          401.21   \n",
       "6      P0007  Thingamajig    Furniture  Supplier A          412.99   \n",
       "7      P0008  Thingamajig  Electronics  Supplier A          430.21   \n",
       "8      P0009  Thingamajig     Clothing  Supplier B             NaN   \n",
       "9      P0010    Doohickey    Furniture  Supplier C          221.18   \n",
       "\n",
       "   Sale_Price  Quantity_In_Stock  Reorder_Level  Units_On_Order  Discontinued  \n",
       "0         NaN              588.0          292.0           161.0             1  \n",
       "1      470.14              348.0          114.0            70.0             1  \n",
       "2      460.10              146.0            NaN           163.0             1  \n",
       "3      124.82               66.0           13.0             NaN             0  \n",
       "4       66.71              903.0          271.0            37.0             1  \n",
       "5         NaN              519.0           89.0             NaN             0  \n",
       "6      230.48                NaN          215.0           136.0             1  \n",
       "7      267.92              339.0          444.0           199.0             1  \n",
       "8       33.22              174.0          278.0           178.0             0  \n",
       "9      166.85              899.0          447.0            34.0             1  "
      ]
     },
     "execution_count": 117,
     "metadata": {},
     "output_type": "execute_result"
    }
   ],
   "source": [
    "df.head(10)"
   ]
  },
  {
   "cell_type": "code",
   "execution_count": 118,
   "id": "e460d168-b358-4700-ba75-83683a340ed2",
   "metadata": {},
   "outputs": [
    {
     "data": {
      "text/plain": [
       "<bound method DataFrame.info of     Product_ID Product_Name         Category    Supplier  Purchase_Price  \\\n",
       "0        P0001       Doodad         Clothing  Supplier D          339.75   \n",
       "1        P0002    Doohickey         Clothing  Supplier C             NaN   \n",
       "2        P0003  Thingamajig         Clothing  Supplier B             NaN   \n",
       "3        P0004    Doohickey         Clothing  Supplier A             NaN   \n",
       "4        P0005    Doohickey             Toys  Supplier E          228.75   \n",
       "..         ...          ...              ...         ...             ...   \n",
       "995      P0996       Gadget      Electronics  Supplier D          350.37   \n",
       "996      P0997       Widget             Toys  Supplier E          117.17   \n",
       "997      P0998       Widget      Electronics  Supplier C          301.70   \n",
       "998      P0999       Doodad             Toys  Supplier B          139.67   \n",
       "999      P1000  Thingamajig  Office Supplies  Supplier D             NaN   \n",
       "\n",
       "     Sale_Price  Quantity_In_Stock  Reorder_Level  Units_On_Order  \\\n",
       "0           NaN              588.0          292.0           161.0   \n",
       "1        470.14              348.0          114.0            70.0   \n",
       "2        460.10              146.0            NaN           163.0   \n",
       "3        124.82               66.0           13.0             NaN   \n",
       "4         66.71              903.0          271.0            37.0   \n",
       "..          ...                ...            ...             ...   \n",
       "995      122.91              186.0           82.0            14.0   \n",
       "996      133.34              497.0          428.0            35.0   \n",
       "997      241.22              441.0           72.0            62.0   \n",
       "998       44.92              129.0          310.0            68.0   \n",
       "999      247.71              638.0          479.0           168.0   \n",
       "\n",
       "     Discontinued  \n",
       "0               1  \n",
       "1               1  \n",
       "2               1  \n",
       "3               0  \n",
       "4               1  \n",
       "..            ...  \n",
       "995             0  \n",
       "996             0  \n",
       "997             0  \n",
       "998             0  \n",
       "999             1  \n",
       "\n",
       "[1000 rows x 10 columns]>"
      ]
     },
     "execution_count": 118,
     "metadata": {},
     "output_type": "execute_result"
    }
   ],
   "source": [
    "df.info"
   ]
  },
  {
   "cell_type": "code",
   "execution_count": 119,
   "id": "b7ac59e4-654c-469d-b8cf-9a3008aa95b3",
   "metadata": {},
   "outputs": [],
   "source": [
    "summary_stats = df.describe()"
   ]
  },
  {
   "cell_type": "code",
   "execution_count": 120,
   "id": "ddb8110a-5797-4c6a-aca8-a999a5156eb7",
   "metadata": {},
   "outputs": [
    {
     "name": "stdout",
     "output_type": "stream",
     "text": [
      "       Purchase_Price   Sale_Price  Quantity_In_Stock  Reorder_Level  \\\n",
      "count      801.000000   810.000000         896.000000     915.000000   \n",
      "mean       251.924732   360.687049         490.196429     246.031694   \n",
      "std        140.640863   475.752708         291.169649     143.636135   \n",
      "min         10.010000    15.020000           0.000000       1.000000   \n",
      "25%        134.020000   154.667500         224.000000     120.000000   \n",
      "50%        253.790000   313.475000         497.000000     246.000000   \n",
      "75%        370.900000   460.060000         734.250000     371.000000   \n",
      "max        498.930000  4967.800000         998.000000     498.000000   \n",
      "\n",
      "       Units_On_Order  Discontinued  \n",
      "count      902.000000   1000.000000  \n",
      "mean        97.648559      0.508000  \n",
      "std         57.119825      0.500186  \n",
      "min          0.000000      0.000000  \n",
      "25%         48.250000      0.000000  \n",
      "50%         96.000000      1.000000  \n",
      "75%        147.000000      1.000000  \n",
      "max        199.000000      1.000000  \n"
     ]
    }
   ],
   "source": [
    "print(summary_stats)"
   ]
  },
  {
   "cell_type": "code",
   "execution_count": 121,
   "id": "4d9bb7da-4bdd-491a-8f0d-7863ef176dfa",
   "metadata": {},
   "outputs": [],
   "source": [
    "mode_values = df.mode().iloc[0]"
   ]
  },
  {
   "cell_type": "code",
   "execution_count": 122,
   "id": "4cac8a35-e12e-4b75-a46d-1dc63243a298",
   "metadata": {},
   "outputs": [
    {
     "name": "stdout",
     "output_type": "stream",
     "text": [
      "Mode values:\n",
      " Product_ID                P0001\n",
      "Product_Name             Widget\n",
      "Category              Furniture\n",
      "Supplier             Supplier D\n",
      "Purchase_Price            47.72\n",
      "Sale_Price               255.55\n",
      "Quantity_In_Stock           0.0\n",
      "Reorder_Level              19.0\n",
      "Units_On_Order             68.0\n",
      "Discontinued                1.0\n",
      "Name: 0, dtype: object\n"
     ]
    }
   ],
   "source": [
    "print(\"Mode values:\\n\", mode_values)"
   ]
  },
  {
   "cell_type": "code",
   "execution_count": 123,
   "id": "d4a8af7c-c810-43c7-b893-c8edebbdc57d",
   "metadata": {},
   "outputs": [],
   "source": [
    "missing_values = df.isnull().sum()"
   ]
  },
  {
   "cell_type": "code",
   "execution_count": 124,
   "id": "71ebc117-bb82-440a-a25a-71a828ab071b",
   "metadata": {},
   "outputs": [],
   "source": [
    "missing_percentage = (missing_values / len(df)) * 100"
   ]
  },
  {
   "cell_type": "code",
   "execution_count": 125,
   "id": "a2ee7b05-9486-43e6-b45c-2647c0c09807",
   "metadata": {},
   "outputs": [],
   "source": [
    "missing_data = pd.DataFrame({'Missing Values': missing_values, 'Percentage': missing_percentage})"
   ]
  },
  {
   "cell_type": "code",
   "execution_count": 126,
   "id": "ee4b1796-91ec-4d25-83ce-f4d9afac0e81",
   "metadata": {},
   "outputs": [],
   "source": [
    "missing_data = missing_data[missing_data['Missing Values'] > 0]"
   ]
  },
  {
   "cell_type": "code",
   "execution_count": 127,
   "id": "2f223f1e-2475-4bd7-9bb5-3a53333ff2ae",
   "metadata": {},
   "outputs": [
    {
     "name": "stdout",
     "output_type": "stream",
     "text": [
      "                   Missing Values  Percentage\n",
      "Purchase_Price                199        19.9\n",
      "Sale_Price                    190        19.0\n",
      "Quantity_In_Stock             104        10.4\n",
      "Reorder_Level                  85         8.5\n",
      "Units_On_Order                 98         9.8\n"
     ]
    }
   ],
   "source": [
    "print(missing_data)"
   ]
  },
  {
   "cell_type": "code",
   "execution_count": 128,
   "id": "b2b17a79-617e-492f-b9d9-e6cbcde713de",
   "metadata": {},
   "outputs": [],
   "source": [
    "import seaborn as sns"
   ]
  },
  {
   "cell_type": "code",
   "execution_count": 129,
   "id": "fceb422f-72de-44ad-b0b5-e3adb3d6ea58",
   "metadata": {},
   "outputs": [],
   "source": [
    "import matplotlib.pyplot as plt"
   ]
  },
  {
   "cell_type": "code",
   "execution_count": 130,
   "id": "3d59c2ea-5448-4f10-a831-ea6b3cee0d6f",
   "metadata": {},
   "outputs": [
    {
     "data": {
      "text/plain": [
       "<Figure size 1000x600 with 0 Axes>"
      ]
     },
     "execution_count": 130,
     "metadata": {},
     "output_type": "execute_result"
    },
    {
     "data": {
      "text/plain": [
       "<Figure size 1000x600 with 0 Axes>"
      ]
     },
     "metadata": {},
     "output_type": "display_data"
    }
   ],
   "source": [
    "plt.figure(figsize=(10, 6))"
   ]
  },
  {
   "cell_type": "code",
   "execution_count": 131,
   "id": "016b1fec-c308-4e2b-bda9-b4e8dacf7527",
   "metadata": {},
   "outputs": [
    {
     "data": {
      "text/plain": [
       "<Axes: xlabel='Sale_Price', ylabel='Count'>"
      ]
     },
     "execution_count": 131,
     "metadata": {},
     "output_type": "execute_result"
    },
    {
     "data": {
      "image/png": "[encoded data removed]",
      "text/plain": [
       "<Figure size 640x480 with 1 Axes>"
      ]
     },
     "metadata": {},
     "output_type": "display_data"
    }
   ],
   "source": [
    "sns.histplot(df['Sale_Price'], bins=30, kde=True)"
   ]
  },
  {
   "cell_type": "code",
   "execution_count": 132,
   "id": "79500af3-fa6c-4593-9588-7735d1185757",
   "metadata": {},
   "outputs": [
    {
     "data": {
      "text/plain": [
       "Text(0.5, 1.0, 'Distribution of Sale Prices')"
      ]
     },
     "execution_count": 132,
     "metadata": {},
     "output_type": "execute_result"
    },
    {
     "data": {
      "image/png": "[encoded data removed]",
      "text/plain": [
       "<Figure size 640x480 with 1 Axes>"
      ]
     },
     "metadata": {},
     "output_type": "display_data"
    }
   ],
   "source": [
    "plt.title('Distribution of Sale Prices')"
   ]
  },
  {
   "cell_type": "code",
   "execution_count": 133,
   "id": "0b579f28-97a3-4440-a171-72c06725d511",
   "metadata": {},
   "outputs": [
    {
     "data": {
      "text/plain": [
       "Text(0.5, 0, 'Sale Price')"
      ]
     },
     "execution_count": 133,
     "metadata": {},
     "output_type": "execute_result"
    },
    {
     "data": {
      "image/png": "[encoded data removed]",
      "text/plain": [
       "<Figure size 640x480 with 1 Axes>"
      ]
     },
     "metadata": {},
     "output_type": "display_data"
    }
   ],
   "source": [
    "plt.xlabel('Sale Price')"
   ]
  },
  {
   "cell_type": "code",
   "execution_count": 134,
   "id": "ca28937c-7fba-402a-b510-a1d728daea2b",
   "metadata": {},
   "outputs": [
    {
     "data": {
      "text/plain": [
       "Text(0, 0.5, 'Frequency')"
      ]
     },
     "execution_count": 134,
     "metadata": {},
     "output_type": "execute_result"
    },
    {
     "data": {
      "image/png": "[encoded data removed]",
      "text/plain": [
       "<Figure size 640x480 with 1 Axes>"
      ]
     },
     "metadata": {},
     "output_type": "display_data"
    }
   ],
   "source": [
    "plt.ylabel('Frequency')\n"
   ]
  },
  {
   "cell_type": "code",
   "execution_count": 135,
   "id": "aa548198-fba8-4987-a033-d33bfb510a56",
   "metadata": {},
   "outputs": [],
   "source": [
    "plt.show()"
   ]
  },
  {
   "cell_type": "code",
   "execution_count": 136,
   "id": "dd575057-934c-43ad-abf6-5d68f4cc5cfc",
   "metadata": {},
   "outputs": [
    {
     "data": {
      "text/plain": [
       "<Figure size 1000x600 with 0 Axes>"
      ]
     },
     "execution_count": 136,
     "metadata": {},
     "output_type": "execute_result"
    },
    {
     "data": {
      "text/plain": [
       "<Figure size 1000x600 with 0 Axes>"
      ]
     },
     "metadata": {},
     "output_type": "display_data"
    }
   ],
   "source": [
    "plt.figure(figsize=(10, 6))"
   ]
  },
  {
   "cell_type": "code",
   "execution_count": 137,
   "id": "2e056ba4-5f3c-4e13-aff9-5b0e1e17fd3b",
   "metadata": {},
   "outputs": [
    {
     "data": {
      "text/plain": [
       "<Axes: xlabel='Quantity_In_Stock'>"
      ]
     },
     "execution_count": 137,
     "metadata": {},
     "output_type": "execute_result"
    },
    {
     "data": {
      "image/png": "[encoded data removed]",
      "text/plain": [
       "<Figure size 640x480 with 1 Axes>"
      ]
     },
     "metadata": {},
     "output_type": "display_data"
    }
   ],
   "source": [
    "sns.boxplot(x=df['Quantity_In_Stock'])"
   ]
  },
  {
   "cell_type": "code",
   "execution_count": 138,
   "id": "e2f616f2-3c1d-4518-b726-123998a5c184",
   "metadata": {},
   "outputs": [
    {
     "data": {
      "text/plain": [
       "Text(0.5, 1.0, 'Box Plot of Quantity in Stock')"
      ]
     },
     "execution_count": 138,
     "metadata": {},
     "output_type": "execute_result"
    },
    {
     "data": {
      "image/png": "[encoded data removed]",
      "text/plain": [
       "<Figure size 640x480 with 1 Axes>"
      ]
     },
     "metadata": {},
     "output_type": "display_data"
    }
   ],
   "source": [
    "plt.title('Box Plot of Quantity in Stock')"
   ]
  },
  {
   "cell_type": "code",
   "execution_count": 139,
   "id": "6e568cf9-1f4b-4dae-bf15-ab4ca7f0bd67",
   "metadata": {},
   "outputs": [
    {
     "data": {
      "text/plain": [
       "Text(0.5, 0, 'Quantity In Stock')"
      ]
     },
     "execution_count": 139,
     "metadata": {},
     "output_type": "execute_result"
    },
    {
     "data": {
      "image/png": "[encoded data removed]",
      "text/plain": [
       "<Figure size 640x480 with 1 Axes>"
      ]
     },
     "metadata": {},
     "output_type": "display_data"
    }
   ],
   "source": [
    "plt.xlabel('Quantity In Stock')"
   ]
  },
  {
   "cell_type": "code",
   "execution_count": 140,
   "id": "1768f015-f5fb-49cc-97c4-c8f688c36f4e",
   "metadata": {},
   "outputs": [],
   "source": [
    "plt.show()"
   ]
  },
  {
   "cell_type": "code",
   "execution_count": 141,
   "id": "6d3e2745-4b12-489f-beca-b42f34ac4e24",
   "metadata": {},
   "outputs": [
    {
     "data": {
      "text/plain": [
       "<Figure size 1000x600 with 0 Axes>"
      ]
     },
     "execution_count": 141,
     "metadata": {},
     "output_type": "execute_result"
    },
    {
     "data": {
      "text/plain": [
       "<Figure size 1000x600 with 0 Axes>"
      ]
     },
     "metadata": {},
     "output_type": "display_data"
    }
   ],
   "source": [
    "plt.figure(figsize=(10, 6))"
   ]
  },
  {
   "cell_type": "code",
   "execution_count": 142,
   "id": "1a74f149-2db4-4f63-8996-225979580076",
   "metadata": {},
   "outputs": [
    {
     "data": {
      "text/plain": [
       "<Axes: xlabel='Purchase_Price', ylabel='Sale_Price'>"
      ]
     },
     "execution_count": 142,
     "metadata": {},
     "output_type": "execute_result"
    },
    {
     "data": {
      "image/png": "[encoded data removed]",
      "text/plain": [
       "<Figure size 640x480 with 1 Axes>"
      ]
     },
     "metadata": {},
     "output_type": "display_data"
    }
   ],
   "source": [
    "sns.scatterplot(x=df['Purchase_Price'], y=df['Sale_Price'])"
   ]
  },
  {
   "cell_type": "code",
   "execution_count": 143,
   "id": "e2742a1a-a301-450c-97d2-8ecbf72cf3df",
   "metadata": {},
   "outputs": [
    {
     "data": {
      "text/plain": [
       "Text(0.5, 1.0, 'Scatter Plot of Purchase Price vs. Sale Price')"
      ]
     },
     "execution_count": 143,
     "metadata": {},
     "output_type": "execute_result"
    },
    {
     "data": {
      "image/png": "[encoded data removed]",
      "text/plain": [
       "<Figure size 640x480 with 1 Axes>"
      ]
     },
     "metadata": {},
     "output_type": "display_data"
    }
   ],
   "source": [
    "plt.title('Scatter Plot of Purchase Price vs. Sale Price')"
   ]
  },
  {
   "cell_type": "code",
   "execution_count": 144,
   "id": "1f44776b-23d0-41e4-b47b-706f6d3771c8",
   "metadata": {},
   "outputs": [
    {
     "data": {
      "text/plain": [
       "Text(0.5, 0, 'Purchase Price')"
      ]
     },
     "execution_count": 144,
     "metadata": {},
     "output_type": "execute_result"
    },
    {
     "data": {
      "image/png": "[encoded data removed]",
      "text/plain": [
       "<Figure size 640x480 with 1 Axes>"
      ]
     },
     "metadata": {},
     "output_type": "display_data"
    }
   ],
   "source": [
    "plt.xlabel('Purchase Price')"
   ]
  },
  {
   "cell_type": "code",
   "execution_count": 145,
   "id": "26b64842-de41-4908-9651-a2562f79377f",
   "metadata": {},
   "outputs": [
    {
     "data": {
      "text/plain": [
       "Text(0, 0.5, 'Sale Price')"
      ]
     },
     "execution_count": 145,
     "metadata": {},
     "output_type": "execute_result"
    },
    {
     "data": {
      "image/png": "[encoded data removed]",
      "text/plain": [
       "<Figure size 640x480 with 1 Axes>"
      ]
     },
     "metadata": {},
     "output_type": "display_data"
    }
   ],
   "source": [
    "plt.ylabel('Sale Price')"
   ]
  },
  {
   "cell_type": "code",
   "execution_count": 146,
   "id": "9912a1cd-e164-4c2b-8760-6882f8c93530",
   "metadata": {},
   "outputs": [],
   "source": [
    "plt.show()"
   ]
  },
  {
   "cell_type": "code",
   "execution_count": 147,
   "id": "71327359-3729-41b8-bb1a-e07f12b4c6e4",
   "metadata": {},
   "outputs": [
    {
     "ename": "ValueError",
     "evalue": "could not convert string to float: 'P0001'",
     "output_type": "error",
     "traceback": [
      "\u001b[1;31m---------------------------------------------------------------------------\u001b[0m",
      "\u001b[1;31mValueError\u001b[0m                                Traceback (most recent call last)",
      "Cell \u001b[1;32mIn[147], line 1\u001b[0m\n\u001b[1;32m----> 1\u001b[0m corr_matrix \u001b[38;5;241m=\u001b[39m df\u001b[38;5;241m.\u001b[39mcorr()\n",
      "File \u001b[1;32mC:\\ProgramData\\anaconda3\\Lib\\site-packages\\pandas\\core\\frame.py:11049\u001b[0m, in \u001b[0;36mDataFrame.corr\u001b[1;34m(self, method, min_periods, numeric_only)\u001b[0m\n\u001b[0;32m  11047\u001b[0m cols \u001b[38;5;241m=\u001b[39m data\u001b[38;5;241m.\u001b[39mcolumns\n\u001b[0;32m  11048\u001b[0m idx \u001b[38;5;241m=\u001b[39m cols\u001b[38;5;241m.\u001b[39mcopy()\n\u001b[1;32m> 11049\u001b[0m mat \u001b[38;5;241m=\u001b[39m data\u001b[38;5;241m.\u001b[39mto_numpy(dtype\u001b[38;5;241m=\u001b[39m\u001b[38;5;28mfloat\u001b[39m, na_value\u001b[38;5;241m=\u001b[39mnp\u001b[38;5;241m.\u001b[39mnan, copy\u001b[38;5;241m=\u001b[39m\u001b[38;5;28;01mFalse\u001b[39;00m)\n\u001b[0;32m  11051\u001b[0m \u001b[38;5;28;01mif\u001b[39;00m method \u001b[38;5;241m==\u001b[39m \u001b[38;5;124m\"\u001b[39m\u001b[38;5;124mpearson\u001b[39m\u001b[38;5;124m\"\u001b[39m:\n\u001b[0;32m  11052\u001b[0m     correl \u001b[38;5;241m=\u001b[39m libalgos\u001b[38;5;241m.\u001b[39mnancorr(mat, minp\u001b[38;5;241m=\u001b[39mmin_periods)\n",
      "File \u001b[1;32mC:\\ProgramData\\anaconda3\\Lib\\site-packages\\pandas\\core\\frame.py:1993\u001b[0m, in \u001b[0;36mDataFrame.to_numpy\u001b[1;34m(self, dtype, copy, na_value)\u001b[0m\n\u001b[0;32m   1991\u001b[0m \u001b[38;5;28;01mif\u001b[39;00m dtype \u001b[38;5;129;01mis\u001b[39;00m \u001b[38;5;129;01mnot\u001b[39;00m \u001b[38;5;28;01mNone\u001b[39;00m:\n\u001b[0;32m   1992\u001b[0m     dtype \u001b[38;5;241m=\u001b[39m np\u001b[38;5;241m.\u001b[39mdtype(dtype)\n\u001b[1;32m-> 1993\u001b[0m result \u001b[38;5;241m=\u001b[39m \u001b[38;5;28mself\u001b[39m\u001b[38;5;241m.\u001b[39m_mgr\u001b[38;5;241m.\u001b[39mas_array(dtype\u001b[38;5;241m=\u001b[39mdtype, copy\u001b[38;5;241m=\u001b[39mcopy, na_value\u001b[38;5;241m=\u001b[39mna_value)\n\u001b[0;32m   1994\u001b[0m \u001b[38;5;28;01mif\u001b[39;00m result\u001b[38;5;241m.\u001b[39mdtype \u001b[38;5;129;01mis\u001b[39;00m \u001b[38;5;129;01mnot\u001b[39;00m dtype:\n\u001b[0;32m   1995\u001b[0m     result \u001b[38;5;241m=\u001b[39m np\u001b[38;5;241m.\u001b[39masarray(result, dtype\u001b[38;5;241m=\u001b[39mdtype)\n",
      "File \u001b[1;32mC:\\ProgramData\\anaconda3\\Lib\\site-packages\\pandas\\core\\internals\\managers.py:1694\u001b[0m, in \u001b[0;36mBlockManager.as_array\u001b[1;34m(self, dtype, copy, na_value)\u001b[0m\n\u001b[0;32m   1692\u001b[0m         arr\u001b[38;5;241m.\u001b[39mflags\u001b[38;5;241m.\u001b[39mwriteable \u001b[38;5;241m=\u001b[39m \u001b[38;5;28;01mFalse\u001b[39;00m\n\u001b[0;32m   1693\u001b[0m \u001b[38;5;28;01melse\u001b[39;00m:\n\u001b[1;32m-> 1694\u001b[0m     arr \u001b[38;5;241m=\u001b[39m \u001b[38;5;28mself\u001b[39m\u001b[38;5;241m.\u001b[39m_interleave(dtype\u001b[38;5;241m=\u001b[39mdtype, na_value\u001b[38;5;241m=\u001b[39mna_value)\n\u001b[0;32m   1695\u001b[0m     \u001b[38;5;66;03m# The underlying data was copied within _interleave, so no need\u001b[39;00m\n\u001b[0;32m   1696\u001b[0m     \u001b[38;5;66;03m# to further copy if copy=True or setting na_value\u001b[39;00m\n\u001b[0;32m   1698\u001b[0m \u001b[38;5;28;01mif\u001b[39;00m na_value \u001b[38;5;129;01mis\u001b[39;00m lib\u001b[38;5;241m.\u001b[39mno_default:\n",
      "File \u001b[1;32mC:\\ProgramData\\anaconda3\\Lib\\site-packages\\pandas\\core\\internals\\managers.py:1753\u001b[0m, in \u001b[0;36mBlockManager._interleave\u001b[1;34m(self, dtype, na_value)\u001b[0m\n\u001b[0;32m   1751\u001b[0m     \u001b[38;5;28;01melse\u001b[39;00m:\n\u001b[0;32m   1752\u001b[0m         arr \u001b[38;5;241m=\u001b[39m blk\u001b[38;5;241m.\u001b[39mget_values(dtype)\n\u001b[1;32m-> 1753\u001b[0m     result[rl\u001b[38;5;241m.\u001b[39mindexer] \u001b[38;5;241m=\u001b[39m arr\n\u001b[0;32m   1754\u001b[0m     itemmask[rl\u001b[38;5;241m.\u001b[39mindexer] \u001b[38;5;241m=\u001b[39m \u001b[38;5;241m1\u001b[39m\n\u001b[0;32m   1756\u001b[0m \u001b[38;5;28;01mif\u001b[39;00m \u001b[38;5;129;01mnot\u001b[39;00m itemmask\u001b[38;5;241m.\u001b[39mall():\n",
      "\u001b[1;31mValueError\u001b[0m: could not convert string to float: 'P0001'"
     ]
    }
   ],
   "source": [
    "corr_matrix = df.corr()"
   ]
  },
  {
   "cell_type": "code",
   "execution_count": null,
   "id": "b7a9336c-edf5-4051-9840-cac1bc196a97",
   "metadata": {},
   "outputs": [],
   "source": [
    "plt.figure(figsize=(12, 8))"
   ]
  },
  {
   "cell_type": "code",
   "execution_count": null,
   "id": "07496d4f-b57d-4e17-8e58-83228bca0d8b",
   "metadata": {},
   "outputs": [],
   "source": [
    "sns.heatmap(corr_matrix, annot=True, cmap='coolwarm', vmin=-1, vmax=1)"
   ]
  },
  {
   "cell_type": "code",
   "execution_count": null,
   "id": "fcf19128-a830-4b59-82f5-95eb111fde7e",
   "metadata": {},
   "outputs": [],
   "source": [
    "plt.title('Correlation Heatmap')"
   ]
  },
  {
   "cell_type": "code",
   "execution_count": null,
   "id": "6a7d71ed-27c9-48b0-8bad-cf008063c91a",
   "metadata": {},
   "outputs": [],
   "source": [
    "plt.show()"
   ]
  },
  {
   "cell_type": "code",
   "execution_count": null,
   "id": "fbd34318-ff64-4f76-8b33-be2fbc37eef9",
   "metadata": {},
   "outputs": [],
   "source": [
    "purchase_price_median = df['Purchase_Price'].median()"
   ]
  },
  {
   "cell_type": "code",
   "execution_count": null,
   "id": "94efd558-654b-43d3-b39f-aec9d072cde4",
   "metadata": {},
   "outputs": [],
   "source": [
    "sale_price_median = df['Sale_Price'].median()"
   ]
  },
  {
   "cell_type": "code",
   "execution_count": null,
   "id": "f7348f35-2ec6-4f95-8f60-83b24c30f78f",
   "metadata": {},
   "outputs": [],
   "source": [
    "df['Purchase_Price'].fillna(purchase_price_median, inplace=True)"
   ]
  },
  {
   "cell_type": "code",
   "execution_count": null,
   "id": "16cf6366-f89d-4ff7-b919-dfea6fef97f4",
   "metadata": {},
   "outputs": [],
   "source": [
    "df['Sale_Price'].fillna(sale_price_median, inplace=True)"
   ]
  },
  {
   "cell_type": "code",
   "execution_count": null,
   "id": "7c3a8d65-c322-437a-93e7-053cc9c64e09",
   "metadata": {},
   "outputs": [],
   "source": [
    "print(\"Missing values after imputation:\")"
   ]
  },
  {
   "cell_type": "code",
   "execution_count": null,
   "id": "8b2f0c59-ca88-43e2-be29-0d53a6518d2a",
   "metadata": {},
   "outputs": [],
   "source": [
    "print(df[['Purchase_Price', 'Sale_Price']].isnull().sum())"
   ]
  },
  {
   "cell_type": "code",
   "execution_count": null,
   "id": "83089204-8710-49b1-8ba8-bdff70274094",
   "metadata": {},
   "outputs": [],
   "source": [
    "Q1 = df['Sale_Price'].quantile(0.25)"
   ]
  },
  {
   "cell_type": "code",
   "execution_count": null,
   "id": "e6f6132b-f1cc-41c0-9d30-2e48e2a33ce9",
   "metadata": {},
   "outputs": [],
   "source": [
    "Q3 = df['Sale_Price'].quantile(0.75)"
   ]
  },
  {
   "cell_type": "code",
   "execution_count": null,
   "id": "e2efd29b-d0c6-48e5-a9b8-cf20a2f0d3f6",
   "metadata": {},
   "outputs": [],
   "source": [
    "IQR = Q3 - Q1"
   ]
  },
  {
   "cell_type": "code",
   "execution_count": null,
   "id": "8fb92c86-f8a8-447f-af59-beec93fd254d",
   "metadata": {},
   "outputs": [],
   "source": [
    "lower_bound = Q1 - 1.5 * IQR"
   ]
  },
  {
   "cell_type": "code",
   "execution_count": null,
   "id": "cbd4cb69-7b93-4775-ad2d-cc61387ea90a",
   "metadata": {},
   "outputs": [],
   "source": [
    "upper_bound = Q3 + 1.5 * IQR"
   ]
  },
  {
   "cell_type": "code",
   "execution_count": null,
   "id": "4826e86d-f670-4313-8936-3f1d946039b5",
   "metadata": {},
   "outputs": [],
   "source": [
    "outliers = df[(df['Sale_Price'] < lower_bound) | (df['Sale_Price'] > upper_bound)]"
   ]
  },
  {
   "cell_type": "code",
   "execution_count": null,
   "id": "d12c5f95-ec5e-4394-8cd0-1b72c969cf7c",
   "metadata": {},
   "outputs": [],
   "source": [
    "print(f\"Number of outliers: {len(outliers)}\")"
   ]
  },
  {
   "cell_type": "code",
   "execution_count": null,
   "id": "5c78c789-b4d0-447e-8aa5-2600cf6097ff",
   "metadata": {},
   "outputs": [],
   "source": [
    "df_cleaned = df[(df['Sale_Price'] >= lower_bound) & (df['Sale_Price'] <= upper_bound)]"
   ]
  },
  {
   "cell_type": "code",
   "execution_count": null,
   "id": "5f61f366-5475-4e0a-9c12-3c59762369fd",
   "metadata": {},
   "outputs": [],
   "source": [
    "print(\"Summary Statistics before removing outliers:\")\n"
   ]
  },
  {
   "cell_type": "code",
   "execution_count": null,
   "id": "8ba357ce-5519-47d5-bcbf-8ddff81d84c8",
   "metadata": {},
   "outputs": [],
   "source": [
    "print(df['Sale_Price'].describe())"
   ]
  },
  {
   "cell_type": "code",
   "execution_count": null,
   "id": "6397cdc0-e8bf-495f-839f-4c080f98b72b",
   "metadata": {},
   "outputs": [],
   "source": [
    "print(\"\\nSummary Statistics after removing outliers:\")\n"
   ]
  },
  {
   "cell_type": "code",
   "execution_count": null,
   "id": "3e72dac6-e7d8-484f-9d0a-4b8fe6ad1fea",
   "metadata": {},
   "outputs": [],
   "source": [
    "print(df_cleaned['Sale_Price'].describe())\n"
   ]
  },
  {
   "cell_type": "code",
   "execution_count": null,
   "id": "bccd239e-83a8-43c5-bc8a-cfcfe18cc94b",
   "metadata": {},
   "outputs": [],
   "source": [
    "top_5_numeric = df.select_dtypes(include=['number']).columns[:5]\n"
   ]
  },
  {
   "cell_type": "code",
   "execution_count": null,
   "id": "6c6e4d6d-435c-4bdf-bf47-3e2d5a90a524",
   "metadata": {},
   "outputs": [],
   "source": [
    "sns.pairplot(df[top_5_numeric])"
   ]
  },
  {
   "cell_type": "code",
   "execution_count": null,
   "id": "279a929e-82f2-413e-ba6f-26016097ebd9",
   "metadata": {},
   "outputs": [],
   "source": [
    "plt.suptitle('Pair Plot of Top 5 Numeric Columns', y=1.02)"
   ]
  },
  {
   "cell_type": "code",
   "execution_count": null,
   "id": "3fdd32b7-8020-4674-b215-5be2eed2d153",
   "metadata": {},
   "outputs": [],
   "source": [
    "plt.show()"
   ]
  },
  {
   "cell_type": "code",
   "execution_count": null,
   "id": "097536ec-840c-4bc4-a664-7e7f22115ac5",
   "metadata": {},
   "outputs": [],
   "source": [
    "category_avg_price = df.groupby('Category')['Sale_Price'].mean().sort_values()"
   ]
  },
  {
   "cell_type": "code",
   "execution_count": null,
   "id": "f2f94cf0-27c7-4364-87ce-dfa44e587c4e",
   "metadata": {},
   "outputs": [],
   "source": [
    "plt.figure(figsize=(10, 6))"
   ]
  },
  {
   "cell_type": "code",
   "execution_count": null,
   "id": "dda4b5c1-e9f9-44f1-9a76-1db737e5f477",
   "metadata": {},
   "outputs": [],
   "source": [
    "category_avg_price.plot(kind='bar', color='skyblue')"
   ]
  },
  {
   "cell_type": "code",
   "execution_count": null,
   "id": "08404aa4-acd1-488f-b67a-d4a9b7d51fc0",
   "metadata": {},
   "outputs": [],
   "source": [
    "plt.title('Average Sale Price by Category')"
   ]
  },
  {
   "cell_type": "code",
   "execution_count": null,
   "id": "43594af3-3895-4265-afa0-4cd2ce2bcb14",
   "metadata": {},
   "outputs": [],
   "source": [
    "plt.xlabel('Category')"
   ]
  },
  {
   "cell_type": "code",
   "execution_count": null,
   "id": "414b4a11-8deb-4e40-bccf-ad69fe156126",
   "metadata": {},
   "outputs": [],
   "source": [
    "plt.ylabel('Average Sale Price')"
   ]
  },
  {
   "cell_type": "code",
   "execution_count": null,
   "id": "9216c246-09a9-48f1-9ed7-bbe305bd166c",
   "metadata": {},
   "outputs": [],
   "source": [
    "plt.xticks(rotation=45)"
   ]
  },
  {
   "cell_type": "code",
   "execution_count": null,
   "id": "ee5f42f0-172e-4b6a-bd4f-9fac663b4146",
   "metadata": {},
   "outputs": [],
   "source": [
    "plt.show()"
   ]
  },
  {
   "cell_type": "code",
   "execution_count": null,
   "id": "91d649c2-cae0-4861-89b3-c843a61b14a7",
   "metadata": {},
   "outputs": [],
   "source": [
    "supplier_stock = df.groupby('Supplier')['Quantity_In_Stock'].sum().sort_values()"
   ]
  },
  {
   "cell_type": "code",
   "execution_count": null,
   "id": "d0ebd1da-3e47-481d-95e9-5ee301638755",
   "metadata": {},
   "outputs": [],
   "source": [
    "plt.figure(figsize=(12, 8))"
   ]
  },
  {
   "cell_type": "code",
   "execution_count": null,
   "id": "897a2cb6-e947-4ced-b266-db6228834e35",
   "metadata": {},
   "outputs": [],
   "source": [
    "supplier_stock.plot(kind='bar', color='coral')"
   ]
  },
  {
   "cell_type": "code",
   "execution_count": null,
   "id": "f2f81359-c75c-46a9-8a72-dcbffa7f5e27",
   "metadata": {},
   "outputs": [],
   "source": [
    "plt.title('Total Quantity In Stock by Supplier')"
   ]
  },
  {
   "cell_type": "code",
   "execution_count": null,
   "id": "c82f2233-597b-41f5-b78f-341619fbaf35",
   "metadata": {},
   "outputs": [],
   "source": [
    "plt.xlabel('Supplier')"
   ]
  },
  {
   "cell_type": "code",
   "execution_count": null,
   "id": "4ffe4a6d-7460-4524-ae62-671391f0a5d1",
   "metadata": {},
   "outputs": [],
   "source": [
    "plt.ylabel('Total Quantity In Stock')"
   ]
  },
  {
   "cell_type": "code",
   "execution_count": null,
   "id": "5526621b-8ad7-481b-9389-4c647828571d",
   "metadata": {},
   "outputs": [],
   "source": [
    "plt.xticks(rotation=45)"
   ]
  },
  {
   "cell_type": "code",
   "execution_count": null,
   "id": "f0e7c466-df59-4828-b49b-26d9269cc5f6",
   "metadata": {},
   "outputs": [],
   "source": [
    "plt.show()"
   ]
  },
  {
   "cell_type": "code",
   "execution_count": null,
   "id": "4d8bb4c0-9a6c-42b3-8d64-0f6464a0180d",
   "metadata": {},
   "outputs": [],
   "source": []
  }
 ],
 "metadata": {
  "kernelspec": {
   "display_name": "Python 3 (ipykernel)",
   "language": "python",
   "name": "python3"
  },
  "language_info": {
   "codemirror_mode": {
    "name": "ipython",
    "version": 3
   },
   "file_extension": ".py",
   "mimetype": "text/x-python",
   "name": "python",
   "nbconvert_exporter": "python",
   "pygments_lexer": "ipython3",
   "version": "3.12.4"
  }
 },
 "nbformat": 4,
 "nbformat_minor": 5
}
